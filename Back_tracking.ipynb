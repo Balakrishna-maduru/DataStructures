{
  "nbformat": 4,
  "nbformat_minor": 0,
  "metadata": {
    "colab": {
      "name": "Back_tracking.ipynb",
      "private_outputs": true,
      "provenance": [],
      "collapsed_sections": [],
      "authorship_tag": "ABX9TyP+7332usm0/ebR1dWt9BgO",
      "include_colab_link": true
    },
    "kernelspec": {
      "name": "python3",
      "display_name": "Python 3"
    },
    "language_info": {
      "name": "python"
    }
  },
  "cells": [
    {
      "cell_type": "markdown",
      "metadata": {
        "id": "view-in-github",
        "colab_type": "text"
      },
      "source": [
        "<a href=\"https://colab.research.google.com/github/Balakrishna-maduru/DataStructures/blob/main/Back_tracking.ipynb\" target=\"_parent\"><img src=\"https://colab.research.google.com/assets/colab-badge.svg\" alt=\"Open In Colab\"/></a>"
      ]
    },
    {
      "cell_type": "code",
      "metadata": {
        "id": "N53nn9gwKda9"
      },
      "source": [
        "def toString(List):\n",
        "  return ''.join(List)\n",
        "\n",
        "def permute(a, l, r):\n",
        "  if l==r:\n",
        "    print(toString(a))\n",
        "  else:\n",
        "    for i in range(l,r+1):\n",
        "      a[l], a[i] = a[i], a[l]\n",
        "      permute(a, l+1, r)\n",
        "      a[l], a[i] = a[i], a[l] # backtrack\n",
        "\n",
        "string = \"ABC\"\n",
        "n = len(string)\n",
        "a = list(string)\n",
        "print(\"n\",n)\n",
        "print(\"a\",a)\n",
        "permute(a, 0, n-1)"
      ],
      "execution_count": null,
      "outputs": []
    },
    {
      "cell_type": "code",
      "metadata": {
        "id": "805CSkRC7XcG"
      },
      "source": [
        "def first_reccuring_char(input_string):\n",
        "  d = {}\n",
        "  for char in input_string:\n",
        "    if d.get(char, False):\n",
        "      return char\n",
        "    d[char] = 1\n",
        "\n",
        "first_reccuring_char('abba')"
      ],
      "execution_count": null,
      "outputs": []
    }
  ]
}